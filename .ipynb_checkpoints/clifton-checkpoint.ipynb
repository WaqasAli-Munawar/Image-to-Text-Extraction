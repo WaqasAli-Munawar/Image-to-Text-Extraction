{
 "cells": [
  {
   "cell_type": "code",
   "execution_count": 22,
   "id": "04271c65",
   "metadata": {},
   "outputs": [],
   "source": [
    "# !pip install pdfplumber"
   ]
  },
  {
   "cell_type": "code",
   "execution_count": 1,
   "id": "33ec0175",
   "metadata": {},
   "outputs": [],
   "source": [
    "from PyPDF2 import PdfReader"
   ]
  },
  {
   "cell_type": "code",
   "execution_count": 3,
   "id": "5518b446",
   "metadata": {},
   "outputs": [],
   "source": [
    "reader = PdfReader(\"cliftontimes-Issue_30_2023.pdf\")"
   ]
  },
  {
   "cell_type": "code",
   "execution_count": 4,
   "id": "0832f070",
   "metadata": {},
   "outputs": [],
   "source": [
    "pages = len(reader.pages)"
   ]
  },
  {
   "cell_type": "code",
   "execution_count": 5,
   "id": "677e993a",
   "metadata": {},
   "outputs": [],
   "source": [
    "page_4 = reader.pages[3] # page 4 with index 3"
   ]
  },
  {
   "cell_type": "code",
   "execution_count": 6,
   "id": "207d331a",
   "metadata": {},
   "outputs": [
    {
     "data": {
      "text/plain": [
       "''"
      ]
     },
     "execution_count": 6,
     "metadata": {},
     "output_type": "execute_result"
    }
   ],
   "source": [
    "page_4.extract_text()"
   ]
  },
  {
   "cell_type": "code",
   "execution_count": 7,
   "id": "9d72242c",
   "metadata": {},
   "outputs": [
    {
     "name": "stdout",
     "output_type": "stream",
     "text": [
      "[File(name=R35.jpg, data: 639.0 kB, hash: 7586468434879362990)]\n"
     ]
    }
   ],
   "source": [
    "print(page_4.images)"
   ]
  },
  {
   "cell_type": "code",
   "execution_count": 8,
   "id": "67646a1c",
   "metadata": {},
   "outputs": [
    {
     "name": "stdout",
     "output_type": "stream",
     "text": [
      "R35.jpg\n"
     ]
    }
   ],
   "source": [
    "for i in page_4.images:\n",
    "    print(i.name)\n",
    "    with open(i.name, \"wb\") as f:\n",
    "        f.write(i.data)"
   ]
  },
  {
   "cell_type": "code",
   "execution_count": 23,
   "id": "db680be6",
   "metadata": {},
   "outputs": [],
   "source": [
    "import pdfplumber"
   ]
  },
  {
   "cell_type": "code",
   "execution_count": 26,
   "id": "b215f0c7",
   "metadata": {},
   "outputs": [
    {
     "name": "stdout",
     "output_type": "stream",
     "text": [
      "\n",
      "None\n",
      "[]\n",
      "\n",
      "None\n",
      "[]\n",
      "\n",
      "None\n",
      "[]\n",
      "\n",
      "None\n",
      "[]\n",
      "\n",
      "None\n",
      "[]\n",
      "\n",
      "None\n",
      "[]\n",
      "\n",
      "None\n",
      "[]\n",
      "\n",
      "None\n",
      "[]\n",
      "\n",
      "None\n",
      "[]\n",
      "\n",
      "None\n",
      "[]\n",
      "\n",
      "None\n",
      "[]\n",
      "\n",
      "None\n",
      "[]\n"
     ]
    }
   ],
   "source": [
    "with pdfplumber.open(\"cliftontimes-Issue_30_2023.pdf\") as f:\n",
    "    for i in f.pages:\n",
    "        print(i.extract_text())\n",
    "        print(i.extract_table())\n",
    "        print(i.extract_tables())\n",
    "    "
   ]
  },
  {
   "cell_type": "code",
   "execution_count": 1,
   "id": "2d00d12a",
   "metadata": {},
   "outputs": [],
   "source": [
    "import fitz"
   ]
  },
  {
   "cell_type": "code",
   "execution_count": 2,
   "id": "df84f726",
   "metadata": {},
   "outputs": [],
   "source": [
    "doc = fitz.open(\"cliftontimes-Issue_30_2023.pdf\")"
   ]
  },
  {
   "cell_type": "code",
   "execution_count": 3,
   "id": "7cf4e0a4",
   "metadata": {},
   "outputs": [
    {
     "data": {
      "text/plain": [
       "12"
      ]
     },
     "execution_count": 3,
     "metadata": {},
     "output_type": "execute_result"
    }
   ],
   "source": [
    "doc.page_count"
   ]
  },
  {
   "cell_type": "code",
   "execution_count": 4,
   "id": "dd42b45e",
   "metadata": {},
   "outputs": [
    {
     "data": {
      "text/plain": [
       "{'format': 'PDF 1.5',\n",
       " 'title': 'Untitled-1',\n",
       " 'author': 'User',\n",
       " 'subject': '',\n",
       " 'keywords': '',\n",
       " 'creator': 'CorelDRAW X7',\n",
       " 'producer': 'GPL Ghostscript 10.00.0',\n",
       " 'creationDate': \"D:20230726055659Z00'00'\",\n",
       " 'modDate': \"D:20230726055659Z00'00'\",\n",
       " 'trapped': '',\n",
       " 'encryption': None}"
      ]
     },
     "execution_count": 4,
     "metadata": {},
     "output_type": "execute_result"
    }
   ],
   "source": [
    "doc.metadata"
   ]
  },
  {
   "cell_type": "code",
   "execution_count": 5,
   "id": "da25c140",
   "metadata": {},
   "outputs": [],
   "source": [
    "page = doc.load_page(4)"
   ]
  },
  {
   "cell_type": "code",
   "execution_count": 6,
   "id": "e3805279",
   "metadata": {},
   "outputs": [
    {
     "data": {
      "text/plain": [
       "''"
      ]
     },
     "execution_count": 6,
     "metadata": {},
     "output_type": "execute_result"
    }
   ],
   "source": [
    "page.get_text()"
   ]
  },
  {
   "cell_type": "code",
   "execution_count": 7,
   "id": "2aebd3a5",
   "metadata": {},
   "outputs": [],
   "source": [
    "pix = page.get_pixmap()"
   ]
  },
  {
   "cell_type": "code",
   "execution_count": 8,
   "id": "ad152636",
   "metadata": {},
   "outputs": [
    {
     "data": {
      "text/plain": [
       "4"
      ]
     },
     "execution_count": 8,
     "metadata": {},
     "output_type": "execute_result"
    }
   ],
   "source": [
    "page.number"
   ]
  },
  {
   "cell_type": "code",
   "execution_count": 9,
   "id": "075adb41",
   "metadata": {},
   "outputs": [],
   "source": [
    "pix.save(f\"page_{page.number}.png\")"
   ]
  },
  {
   "cell_type": "code",
   "execution_count": 10,
   "id": "e4e576e5",
   "metadata": {},
   "outputs": [],
   "source": [
    "links = page.get_links()"
   ]
  },
  {
   "cell_type": "code",
   "execution_count": 11,
   "id": "d2133820",
   "metadata": {},
   "outputs": [
    {
     "data": {
      "text/plain": [
       "[]"
      ]
     },
     "execution_count": 11,
     "metadata": {},
     "output_type": "execute_result"
    }
   ],
   "source": [
    "links"
   ]
  },
  {
   "cell_type": "code",
   "execution_count": null,
   "id": "0fbdf2f4",
   "metadata": {},
   "outputs": [],
   "source": []
  }
 ],
 "metadata": {
  "kernelspec": {
   "display_name": "Python 3 (ipykernel)",
   "language": "python",
   "name": "python3"
  },
  "language_info": {
   "codemirror_mode": {
    "name": "ipython",
    "version": 3
   },
   "file_extension": ".py",
   "mimetype": "text/x-python",
   "name": "python",
   "nbconvert_exporter": "python",
   "pygments_lexer": "ipython3",
   "version": "3.11.3"
  }
 },
 "nbformat": 4,
 "nbformat_minor": 5
}
